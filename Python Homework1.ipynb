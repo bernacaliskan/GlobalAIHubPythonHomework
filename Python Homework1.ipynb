{
 "cells": [
  {
   "cell_type": "code",
   "execution_count": 21,
   "metadata": {},
   "outputs": [
    {
     "name": "stdout",
     "output_type": "stream",
     "text": [
      "Welcome\n",
      "Please enter your age: 22\n",
      "Your age: 22    <class 'int'>\n",
      "Find 22/2 : 11\n",
      "Correct answer: 11.0    <class 'float'>\n",
      "Enter a number between 1 and 10 :4\n",
      "Enter a number between 10 and 20 : 11\n",
      "First number:4    <class 'int'>\n",
      "Second number:11   <class 'int'>\n",
      "Multiply your first and second numbers: 44\n",
      "Correct answer:44\n",
      "<class 'str'>\n"
     ]
    }
   ],
   "source": [
    "x= int(input(\"Welcome\"+ \"\\n\" +\"Please enter your age: \"))\n",
    "print(\"Your age: {}\".format(x) +\"    \" + str(type(x)))\n",
    "y=float(input(\"Find {}/2 : \".format(x)))\n",
    "print(f'Correct answer: {x/2}'+\"    \" + str(type(y)))\n",
    "k,l=int(input(\"Enter a number between 1 and 10 :\")),int(input(\"Enter a number between 10 and 20 : \")) \n",
    "print(f'First number:{k}'+\"    \" + str(type(k)))\n",
    "print(\"Second number:{}\".format(l)+ \"   \" + str(type(l)))\n",
    "m=input(\"Multiply your first and second numbers: \")\n",
    "print(\"Correct answer:{}\".format(k*l) +\"\\n\"+ str(type(m)))"
   ]
  },
  {
   "cell_type": "code",
   "execution_count": null,
   "metadata": {},
   "outputs": [],
   "source": []
  }
 ],
 "metadata": {
  "kernelspec": {
   "display_name": "Python 3",
   "language": "python",
   "name": "python3"
  },
  "language_info": {
   "codemirror_mode": {
    "name": "ipython",
    "version": 3
   },
   "file_extension": ".py",
   "mimetype": "text/x-python",
   "name": "python",
   "nbconvert_exporter": "python",
   "pygments_lexer": "ipython3",
   "version": "3.9.1"
  }
 },
 "nbformat": 4,
 "nbformat_minor": 4
}
