{
 "cells": [
  {
   "cell_type": "code",
   "execution_count": 15,
   "metadata": {},
   "outputs": [
    {
     "name": "stdout",
     "output_type": "stream",
     "text": [
      "Welcome\n",
      "Please enter your first name: B\n",
      "Please enter your last name: C\n",
      "Enter your age: 22\n",
      "Enter your date of birth(only the year):1998\n",
      "B\n",
      "C\n",
      "22\n",
      "1998\n",
      "You can go out to the street.\n"
     ]
    }
   ],
   "source": [
    "a,b=str(input(\"Welcome\"+ \"\\n\" +\"Please enter your first name: \")), str(input(\"Please enter your last name: \"))\n",
    "c,d=int(input(\"Enter your age: \")), int(input(\"Enter your date of birth(only the year):\"))\n",
    "list=[a,b,c,d]\n",
    "for i in list:\n",
    " print(i)\n",
    "if c<=18:\n",
    " print(\"You can't go out because it's too dangerous.\")  \n",
    "else:\n",
    " print(\"You can go out to the street.\")"
   ]
  },
  {
   "cell_type": "code",
   "execution_count": null,
   "metadata": {},
   "outputs": [],
   "source": []
  },
  {
   "cell_type": "code",
   "execution_count": null,
   "metadata": {},
   "outputs": [],
   "source": []
  }
 ],
 "metadata": {
  "kernelspec": {
   "display_name": "Python 3",
   "language": "python",
   "name": "python3"
  },
  "language_info": {
   "codemirror_mode": {
    "name": "ipython",
    "version": 3
   },
   "file_extension": ".py",
   "mimetype": "text/x-python",
   "name": "python",
   "nbconvert_exporter": "python",
   "pygments_lexer": "ipython3",
   "version": "3.9.1"
  }
 },
 "nbformat": 4,
 "nbformat_minor": 4
}
